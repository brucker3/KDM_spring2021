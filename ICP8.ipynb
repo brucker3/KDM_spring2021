{
  "nbformat": 4,
  "nbformat_minor": 0,
  "metadata": {
    "colab": {
      "name": "ICP8.ipynb",
      "provenance": [],
      "authorship_tag": "ABX9TyNPa1yISYbwBZnEMhsZC82s",
      "include_colab_link": true
    },
    "kernelspec": {
      "name": "python3",
      "display_name": "Python 3"
    }
  },
  "cells": [
    {
      "cell_type": "markdown",
      "metadata": {
        "id": "view-in-github",
        "colab_type": "text"
      },
      "source": [
        "<a href=\"https://colab.research.google.com/github/brucker3/KDM_spring2021/blob/branch1/ICP8.ipynb\" target=\"_parent\"><img src=\"https://colab.research.google.com/assets/colab-badge.svg\" alt=\"Open In Colab\"/></a>"
      ]
    },
    {
      "cell_type": "code",
      "metadata": {
        "id": "EboVOnPD_W1x"
      },
      "source": [
        "# getting packages for triples extracting \n",
        "!pip install stanza\n",
        "import stanza"
      ],
      "execution_count": null,
      "outputs": []
    },
    {
      "cell_type": "code",
      "metadata": {
        "id": "M0HJeSpf_b1v"
      },
      "source": [
        "# evnioment set up \n",
        "corenlp_dir = './corenlp'\n",
        "stanza.install_corenlp(dir=corenlp_dir)\n",
        "\n",
        "import os\n",
        "os.environ[\"CORENLP_HOME\"] = corenlp_dir"
      ],
      "execution_count": null,
      "outputs": []
    },
    {
      "cell_type": "code",
      "metadata": {
        "id": "E3KttIjT_eNF"
      },
      "source": [
        "import stanza\n",
        "# Import client module\n",
        "from stanza.server import CoreNLPClient\n",
        "\n",
        "# set up and configue end point \n",
        "client = CoreNLPClient(timeout=150000000, be_quiet=True, annotators=['openie'], \n",
        "endpoint='http://localhost:9001')\n",
        "client.start()\n",
        "import time\n",
        "time.sleep(10)"
      ],
      "execution_count": null,
      "outputs": []
    },
    {
      "cell_type": "code",
      "metadata": {
        "id": "oLKHovGw_gox"
      },
      "source": [
        "import json\n",
        "# run triple extraction \n",
        "text = \"James Earl Carter Jr. born October 1, 1924 is an American politician, businessman, and philanthropist who served as the 39th president of the United States from 1977 to 1981.\"\n",
        "document = client.annotate(text, output_format='json')\n",
        "triples = []\n",
        "for sentence in document['sentences']:\n",
        "    for triple in sentence['openie']:\n",
        "        triples.append({\n",
        "           'subject': triple['subject'],\n",
        "           'relation': triple['relation'],\n",
        "            'object': triple['object']\n",
        "        })\n",
        "print(triples)"
      ],
      "execution_count": null,
      "outputs": []
    },
    {
      "cell_type": "code",
      "metadata": {
        "id": "2ZhofikW_it7"
      },
      "source": [
        "import nltk\n",
        "nltk.download('all')\n",
        "from nltk.corpus import wordnet"
      ],
      "execution_count": null,
      "outputs": []
    },
    {
      "cell_type": "code",
      "metadata": {
        "id": "XJ96jL7F_pQQ"
      },
      "source": [
        "# dont thnk I need theese \n",
        "\n",
        "wordnet.synsets('plane')\n",
        "\n",
        "\n",
        "\n",
        "#hyponyms\n",
        "plane = wordnet.synset('airplane.n.01')\n",
        "sorted([lemma.name() for synset in plane.hyponyms() for lemma in synset.lemmas()])\n",
        "\n",
        "\n",
        "#Hypernym\n",
        "[lemma.name() for synset in  plane.hypernyms() for lemma in synset.lemmas()]"
      ],
      "execution_count": null,
      "outputs": []
    }
  ]
}