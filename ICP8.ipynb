{
  "nbformat": 4,
  "nbformat_minor": 0,
  "metadata": {
    "colab": {
      "name": "ICP8.ipynb",
      "provenance": [],
      "authorship_tag": "ABX9TyP6cmfw2Z+QbYDUX49cageV",
      "include_colab_link": true
    },
    "kernelspec": {
      "name": "python3",
      "display_name": "Python 3"
    }
  },
  "cells": [
    {
      "cell_type": "markdown",
      "metadata": {
        "id": "view-in-github",
        "colab_type": "text"
      },
      "source": [
        "<a href=\"https://colab.research.google.com/github/brucker3/KDM_spring2021/blob/main/ICP8.ipynb\" target=\"_parent\"><img src=\"https://colab.research.google.com/assets/colab-badge.svg\" alt=\"Open In Colab\"/></a>"
      ]
    },
    {
      "cell_type": "code",
      "metadata": {
        "id": "EboVOnPD_W1x",
        "colab": {
          "base_uri": "https://localhost:8080/"
        },
        "outputId": "fe743180-665f-439e-c9a7-98d0f34049bd"
      },
      "source": [
        "# getting packages for triples extracting \n",
        "!pip install stanza\n",
        "import stanza"
      ],
      "execution_count": 1,
      "outputs": [
        {
          "output_type": "stream",
          "text": [
            "Collecting stanza\n",
            "\u001b[?25l  Downloading https://files.pythonhosted.org/packages/50/ae/a70a58ce6b4e2daad538688806ee0f238dbe601954582a74ea57cde6c532/stanza-1.2-py3-none-any.whl (282kB)\n",
            "\r\u001b[K     |█▏                              | 10kB 13.7MB/s eta 0:00:01\r\u001b[K     |██▎                             | 20kB 19.1MB/s eta 0:00:01\r\u001b[K     |███▌                            | 30kB 9.9MB/s eta 0:00:01\r\u001b[K     |████▋                           | 40kB 7.7MB/s eta 0:00:01\r\u001b[K     |█████▉                          | 51kB 4.1MB/s eta 0:00:01\r\u001b[K     |███████                         | 61kB 4.6MB/s eta 0:00:01\r\u001b[K     |████████▏                       | 71kB 5.0MB/s eta 0:00:01\r\u001b[K     |█████████▎                      | 81kB 5.3MB/s eta 0:00:01\r\u001b[K     |██████████▌                     | 92kB 5.3MB/s eta 0:00:01\r\u001b[K     |███████████▋                    | 102kB 5.5MB/s eta 0:00:01\r\u001b[K     |████████████▉                   | 112kB 5.5MB/s eta 0:00:01\r\u001b[K     |██████████████                  | 122kB 5.5MB/s eta 0:00:01\r\u001b[K     |███████████████                 | 133kB 5.5MB/s eta 0:00:01\r\u001b[K     |████████████████▎               | 143kB 5.5MB/s eta 0:00:01\r\u001b[K     |█████████████████▍              | 153kB 5.5MB/s eta 0:00:01\r\u001b[K     |██████████████████▋             | 163kB 5.5MB/s eta 0:00:01\r\u001b[K     |███████████████████▊            | 174kB 5.5MB/s eta 0:00:01\r\u001b[K     |█████████████████████           | 184kB 5.5MB/s eta 0:00:01\r\u001b[K     |██████████████████████          | 194kB 5.5MB/s eta 0:00:01\r\u001b[K     |███████████████████████▎        | 204kB 5.5MB/s eta 0:00:01\r\u001b[K     |████████████████████████▍       | 215kB 5.5MB/s eta 0:00:01\r\u001b[K     |█████████████████████████▋      | 225kB 5.5MB/s eta 0:00:01\r\u001b[K     |██████████████████████████▊     | 235kB 5.5MB/s eta 0:00:01\r\u001b[K     |███████████████████████████▉    | 245kB 5.5MB/s eta 0:00:01\r\u001b[K     |█████████████████████████████   | 256kB 5.5MB/s eta 0:00:01\r\u001b[K     |██████████████████████████████▏ | 266kB 5.5MB/s eta 0:00:01\r\u001b[K     |███████████████████████████████▍| 276kB 5.5MB/s eta 0:00:01\r\u001b[K     |████████████████████████████████| 286kB 5.5MB/s \n",
            "\u001b[?25hRequirement already satisfied: protobuf in /usr/local/lib/python3.7/dist-packages (from stanza) (3.12.4)\n",
            "Requirement already satisfied: tqdm in /usr/local/lib/python3.7/dist-packages (from stanza) (4.41.1)\n",
            "Requirement already satisfied: numpy in /usr/local/lib/python3.7/dist-packages (from stanza) (1.19.5)\n",
            "Requirement already satisfied: torch>=1.3.0 in /usr/local/lib/python3.7/dist-packages (from stanza) (1.8.0+cu101)\n",
            "Requirement already satisfied: requests in /usr/local/lib/python3.7/dist-packages (from stanza) (2.23.0)\n",
            "Requirement already satisfied: setuptools in /usr/local/lib/python3.7/dist-packages (from protobuf->stanza) (54.0.0)\n",
            "Requirement already satisfied: six>=1.9 in /usr/local/lib/python3.7/dist-packages (from protobuf->stanza) (1.15.0)\n",
            "Requirement already satisfied: typing-extensions in /usr/local/lib/python3.7/dist-packages (from torch>=1.3.0->stanza) (3.7.4.3)\n",
            "Requirement already satisfied: idna<3,>=2.5 in /usr/local/lib/python3.7/dist-packages (from requests->stanza) (2.10)\n",
            "Requirement already satisfied: urllib3!=1.25.0,!=1.25.1,<1.26,>=1.21.1 in /usr/local/lib/python3.7/dist-packages (from requests->stanza) (1.24.3)\n",
            "Requirement already satisfied: certifi>=2017.4.17 in /usr/local/lib/python3.7/dist-packages (from requests->stanza) (2020.12.5)\n",
            "Requirement already satisfied: chardet<4,>=3.0.2 in /usr/local/lib/python3.7/dist-packages (from requests->stanza) (3.0.4)\n",
            "Installing collected packages: stanza\n",
            "Successfully installed stanza-1.2\n"
          ],
          "name": "stdout"
        }
      ]
    },
    {
      "cell_type": "code",
      "metadata": {
        "id": "M0HJeSpf_b1v",
        "colab": {
          "base_uri": "https://localhost:8080/"
        },
        "outputId": "8bad505b-df25-4cee-9cea-a509d12cafb6"
      },
      "source": [
        "# evnioment set up \n",
        "corenlp_dir = './corenlp'\n",
        "stanza.install_corenlp(dir=corenlp_dir)\n",
        "\n",
        "import os\n",
        "os.environ[\"CORENLP_HOME\"] = corenlp_dir"
      ],
      "execution_count": 2,
      "outputs": [
        {
          "output_type": "stream",
          "text": [
            "2021-03-13 19:14:17 INFO: Installing CoreNLP package into ./corenlp...\n",
            "Downloading http://nlp.stanford.edu/software/stanford-corenlp-latest.zip: 100%|██████████| 505M/505M [01:56<00:00, 4.34MB/s]\n",
            "2021-03-13 19:16:16 WARNING: For customized installation location, please set the `CORENLP_HOME` environment variable to the location of the installation. In Unix, this is done with `export CORENLP_HOME=./corenlp`.\n"
          ],
          "name": "stderr"
        }
      ]
    },
    {
      "cell_type": "code",
      "metadata": {
        "id": "E3KttIjT_eNF",
        "colab": {
          "base_uri": "https://localhost:8080/"
        },
        "outputId": "bcfc6b52-116d-45a2-8b1e-7c8d429f1a73"
      },
      "source": [
        "import stanza\n",
        "# Import client module\n",
        "from stanza.server import CoreNLPClient\n",
        "\n",
        "# set up and configue end point \n",
        "client = CoreNLPClient(timeout=150000000, be_quiet=True, annotators=['openie'], \n",
        "endpoint='http://localhost:9001')\n",
        "client.start()\n",
        "import time\n",
        "time.sleep(10)"
      ],
      "execution_count": 3,
      "outputs": [
        {
          "output_type": "stream",
          "text": [
            "2021-03-13 19:16:54 INFO: Writing properties to tmp file: corenlp_server-c44b57c5d06647f3.props\n",
            "2021-03-13 19:16:54 INFO: Starting server with command: java -Xmx5G -cp ./corenlp/* edu.stanford.nlp.pipeline.StanfordCoreNLPServer -port 9001 -timeout 150000000 -threads 5 -maxCharLength 100000 -quiet True -serverProperties corenlp_server-c44b57c5d06647f3.props -annotators openie -preload -outputFormat serialized\n"
          ],
          "name": "stderr"
        }
      ]
    },
    {
      "cell_type": "code",
      "metadata": {
        "id": "oLKHovGw_gox",
        "colab": {
          "base_uri": "https://localhost:8080/"
        },
        "outputId": "5783b8aa-3248-404b-ea52-05215fc506f2"
      },
      "source": [
        "import json\n",
        "# run triple extraction \n",
        "\n",
        "#read the csv file with amazon reviews\n",
        "#reviews_df=pd.read_csv('/content/reviews.csv',error_bad_lines=False)\n",
        "#print(reviews_df.head(6))\n",
        "\n",
        "\n",
        "txt = \"../content/text.txt\"\n",
        "# opening and converting read in files to use able form \n",
        "txt = open(txt, \"r\")\n",
        "text_sring = txt.read()\n",
        "\n",
        "\n",
        "\n",
        "#text = \"James Earl Carter Jr. born October 1, 1924 is an American politician, businessman, and philanthropist who served as the 39th president of the United States from 1977 to 1981.\"\n",
        "document = client.annotate(text_sring, output_format='json')\n",
        "triples = []\n",
        "for sentence in document['sentences']:\n",
        "    for triple in sentence['openie']:\n",
        "        triples.append({\n",
        "           'subject': triple['subject'],\n",
        "           'relation': triple['relation'],\n",
        "            'object': triple['object']\n",
        "        })\n",
        "print(triples)"
      ],
      "execution_count": 6,
      "outputs": [
        {
          "output_type": "stream",
          "text": [
            "[{'subject': 'it', 'relation': 'developing', 'object': 'new version'}, {'subject': 'it', 'relation': 'developing', 'object': 'new version of Powerpuff Girls'}, {'subject': 'CW', 'relation': 'announced at_time', 'object': 'year'}, {'subject': 'CW', 'relation': 'announced at_time', 'object': 'Earlier year'}, {'subject': 'it', 'relation': 'developing', 'object': 'version'}, {'subject': 'it', 'relation': 'developing', 'object': 'version of Powerpuff Girls'}, {'subject': 'erstwhile crimefighters', 'relation': 'be disillusioned twentysomethings by', 'object': 'Diablo Cody'}, {'subject': 'peer pressures', 'relation': 'horrors in', 'object': 'middle America'}, {'subject': 'high school', 'relation': 'of pressures is', 'object': 'horrors in middle America with modern sensibility'}, {'subject': 'peer pressures', 'relation': 'horrors with', 'object': 'modern sensibility'}, {'subject': 'peer pressures', 'relation': 'horrors of', 'object': 'puberty'}, {'subject': 'horrors', 'relation': 'is in', 'object': 'middle America'}, {'subject': 'horrors', 'relation': 'is with', 'object': 'modern sensibility'}, {'subject': 'Grade school math students', 'relation': 'are', 'object': 'likely'}, {'subject': 'linear equations', 'relation': 'of systems is', 'object': 'bedrock calculations in math'}, {'subject': 'kind', 'relation': 'solve', 'object': 'systems of linear equations'}, {'subject': 'kind', 'relation': 'solve', 'object': 'systems'}, {'subject': 'kind', 'relation': 'solve', 'object': 'systems of equations'}, {'subject': 'right kind', 'relation': 'solve', 'object': 'systems of equations'}, {'subject': 'right kind', 'relation': 'solve', 'object': 'systems of linear equations'}, {'subject': 'systems', 'relation': 'calculations in', 'object': 'math'}, {'subject': 'bedrock calculations', 'relation': 'is in', 'object': 'math'}, {'subject': 'right kind', 'relation': 'solve', 'object': 'systems'}, {'subject': 'proof', 'relation': 'establishes', 'object': 'method'}, {'subject': 'proof', 'relation': 'establishes', 'object': 'first method'}, {'subject': 'proof', 'relation': 'establishes', 'object': 'method capable of surpassing'}, {'subject': 'proof', 'relation': 'establishes', 'object': 'method capable'}, {'subject': 'proof', 'relation': 'establishes', 'object': 'first method capable'}, {'subject': 'proof', 'relation': 'establishes method As', 'object': 'result'}, {'subject': 'proof', 'relation': 'establishes', 'object': 'first method capable of surpassing'}, {'subject': 'fundamental problems', 'relation': 'is in', 'object': 'computing'}, {'subject': 'we', 'relation': 'Now have', 'object': 'proof'}, {'subject': 'we', 'relation': 'have', 'object': 'proof'}, {'subject': 'Philadelphia 76ers center Joel Embiid', 'relation': 'has', 'object': 'left knee'}, {'subject': \"Philadelphia 76ers center Joel Embiid 's left knee\", 'relation': 'undergoing MRI on', 'object': 'Saturday'}, {'subject': \"Philadelphia 76ers center Joel Embiid 's left knee\", 'relation': 'undergoing', 'object': 'MRI'}, {'subject': \"Philadelphia 76ers center Joel Embiid 's knee\", 'relation': 'undergoing MRI on', 'object': 'Saturday'}, {'subject': \"Philadelphia 76ers center Joel Embiid 's knee\", 'relation': 'undergoing', 'object': 'MRI'}, {'subject': 'ESPN', 'relation': 'according', 'object': 'Adrian Wojnarowski'}, {'subject': 'He', 'relation': \"'s dealing with\", 'object': 'bone bruise'}, {'subject': 'Embiid', 'relation': 'limped in', 'object': \"Friday 's victory over Washington Wizards\"}, {'subject': 'Wojnarowski', 'relation': 'initially reported', 'object': 'MVP front runner'}, {'subject': 'Wojnarowski', 'relation': 'reported', 'object': 'MVP front runner'}, {'subject': 'Friday', 'relation': 'in', 'object': 'victory over Washington Wizards'}, {'subject': 'Embiid', 'relation': 'limped in', 'object': \"Friday 's victory\"}, {'subject': 'Embiid', 'relation': 'limped to', 'object': 'locker room'}, {'subject': 'It', 'relation': 'was', 'object': 'scene'}, {'subject': 'scene', 'relation': 'especially considering', 'object': \"Embiid 's injury history\"}, {'subject': 'It', 'relation': 'was worrisome', 'object': 'fans'}, {'subject': 'It', 'relation': 'was scene for', 'object': '76ers fans'}, {'subject': 'Embiid', 'relation': 'has', 'object': 'injury history'}, {'subject': 'It', 'relation': 'was worrisome scene for', 'object': '76ers fans'}, {'subject': 'worrisome scene', 'relation': 'considering', 'object': \"Embiid 's injury history\"}, {'subject': 'worrisome scene', 'relation': 'especially considering', 'object': \"Embiid 's injury history\"}, {'subject': 'scene', 'relation': 'considering', 'object': \"Embiid 's injury history\"}, {'subject': 'It', 'relation': 'was', 'object': 'worrisome scene'}]\n"
          ],
          "name": "stdout"
        }
      ]
    },
    {
      "cell_type": "code",
      "metadata": {
        "id": "5Ywhtx3VCrZE"
      },
      "source": [
        "with open(\"../content/output.txt\", 'w') as writefile:\n",
        "    writefile.write(str(triples))"
      ],
      "execution_count": 9,
      "outputs": []
    }
  ]
}