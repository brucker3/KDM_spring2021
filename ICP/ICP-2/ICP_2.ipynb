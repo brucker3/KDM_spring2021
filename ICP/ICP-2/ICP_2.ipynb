{
  "nbformat": 4,
  "nbformat_minor": 0,
  "metadata": {
    "colab": {
      "name": "ICP-2.ipynb",
      "provenance": [],
      "authorship_tag": "ABX9TyOdhMYV5l7nlT/N4oep8yh9",
      "include_colab_link": true
    },
    "kernelspec": {
      "name": "python3",
      "display_name": "Python 3"
    }
  },
  "cells": [
    {
      "cell_type": "markdown",
      "metadata": {
        "id": "view-in-github",
        "colab_type": "text"
      },
      "source": [
        "<a href=\"https://colab.research.google.com/github/brucker3/KDM_spring2021/blob/main/ICP/ICP-2/ICP_2.ipynb\" target=\"_parent\"><img src=\"https://colab.research.google.com/assets/colab-badge.svg\" alt=\"Open In Colab\"/></a>"
      ]
    },
    {
      "cell_type": "code",
      "metadata": {
        "colab": {
          "base_uri": "https://localhost:8080/"
        },
        "id": "Ui-uzRmQ71BB",
        "outputId": "cb5aefb8-c253-44f4-f261-0567954b8df1"
      },
      "source": [
        "# download and import libraires for ICP-2 \n",
        "!pip install textblob\n",
        "!pip install gensim\n",
        "import gensim \n",
        "import nltk\n",
        "import textblob\n",
        "nltk.download('punkt')\n",
        "nltk.download('averaged_perceptron_tagger')\n",
        "nltk.download('wordnet')\n",
        "import pandas as pd\n",
        "from nltk.stem import WordNetLemmatizer \n",
        "from nltk.stem import PorterStemmer\n",
        "from nltk.tokenize import sent_tokenize\n",
        "from nltk.tokenize import word_tokenize\n",
        "from nltk.probability import FreqDist"
      ],
      "execution_count": 27,
      "outputs": [
        {
          "output_type": "stream",
          "text": [
            "Requirement already satisfied: textblob in /usr/local/lib/python3.6/dist-packages (0.15.3)\n",
            "Requirement already satisfied: nltk>=3.1 in /usr/local/lib/python3.6/dist-packages (from textblob) (3.2.5)\n",
            "Requirement already satisfied: six in /usr/local/lib/python3.6/dist-packages (from nltk>=3.1->textblob) (1.15.0)\n",
            "Requirement already satisfied: gensim in /usr/local/lib/python3.6/dist-packages (3.6.0)\n",
            "Requirement already satisfied: smart-open>=1.2.1 in /usr/local/lib/python3.6/dist-packages (from gensim) (4.1.2)\n",
            "Requirement already satisfied: scipy>=0.18.1 in /usr/local/lib/python3.6/dist-packages (from gensim) (1.4.1)\n",
            "Requirement already satisfied: numpy>=1.11.3 in /usr/local/lib/python3.6/dist-packages (from gensim) (1.19.5)\n",
            "Requirement already satisfied: six>=1.5.0 in /usr/local/lib/python3.6/dist-packages (from gensim) (1.15.0)\n",
            "[nltk_data] Downloading package punkt to /root/nltk_data...\n",
            "[nltk_data]   Package punkt is already up-to-date!\n",
            "[nltk_data] Downloading package averaged_perceptron_tagger to\n",
            "[nltk_data]     /root/nltk_data...\n",
            "[nltk_data]   Package averaged_perceptron_tagger is already up-to-\n",
            "[nltk_data]       date!\n",
            "[nltk_data] Downloading package wordnet to /root/nltk_data...\n",
            "[nltk_data]   Package wordnet is already up-to-date!\n"
          ],
          "name": "stdout"
        }
      ]
    },
    {
      "cell_type": "markdown",
      "metadata": {
        "id": "VVPGCJVo9eY6"
      },
      "source": [
        "sample text to be used:\n",
        "\n",
        "      ‘Xi Jinping is a Chinese politician who has served as General Secretary of the Chinese Communist Party (CCP) and Chairman of the Central Military Commission (CMC) since 2012, and President of the People's Republic of China (PRC) since 2013. He has been the paramount leader of China, the most prominent political leader in the country, since 2012. The son of Chinese Communist veteran Xi Zhongxun, he was exiled to rural Yanchuan County as a teenager following his father's purge during the Cultural Revolution and lived in a cave in the village of Liangjiahe, where he joined the CCP and worked as the party secretary.’"
      ]
    },
    {
      "cell_type": "markdown",
      "metadata": {
        "id": "zwKOS92Jo3wx"
      },
      "source": [
        "1 pos tagger "
      ]
    },
    {
      "cell_type": "code",
      "metadata": {
        "id": "1Zl-X-NM9lsb"
      },
      "source": [
        "text = \"‘Xi Jinping is a Chinese politician who has served as General Secretary of the Chinese Communist Party (CCP) and Chairman of the Central Military Commission (CMC) since 2012, and President of the People's Republic of China (PRC) since 2013. He has been the paramount leader of China, the most prominent political leader in the country, since 2012. The son of Chinese Communist veteran Xi Zhongxun, he was exiled to rural Yanchuan County as a teenager following his father's purge during the Cultural Revolution and lived in a cave in the village of Liangjiahe, where he joined the CCP and worked as the party secretary.’\"\n",
        "#nltk.download()\n",
        "# http://www.nltk.org/book/ch05.html\n",
        "\n",
        "text2 = word_tokenize(text)\n",
        "nltk.pos_tag(text2)\n",
        "\n"
      ],
      "execution_count": null,
      "outputs": []
    },
    {
      "cell_type": "markdown",
      "metadata": {
        "id": "-lH_cV49o91y"
      },
      "source": [
        "2 Named entity recognizer (NER)\n",
        "https://towardsdatascience.com/named-entity-recognition-with-nltk-and-spacy-8c4a7d88e7da\n",
        "\n",
        "https://pythonprogramming.net/named-entity-recognition-nltk-tutorial/\n",
        "\n",
        "\n",
        "\n",
        "this is running I'm not sure hte output is corret"
      ]
    },
    {
      "cell_type": "code",
      "metadata": {
        "id": "FVqjSO90pCkl",
        "outputId": "55891ed2-3693-484d-b94c-bec20aeac84f",
        "colab": {
          "base_uri": "https://localhost:8080/"
        }
      },
      "source": [
        "text = \"‘Xi Jinping is a Chinese politician who has served as General Secretary of the Chinese Communist Party (CCP) and Chairman of the Central Military Commission (CMC) since 2012, and President of the People's Republic of China (PRC) since 2013. He has been the paramount leader of China, the most prominent political leader in the country, since 2012. The son of Chinese Communist veteran Xi Zhongxun, he was exiled to rural Yanchuan County as a teenager following his father's purge during the Cultural Revolution and lived in a cave in the village of Liangjiahe, where he joined the CCP and worked as the party secretary.’\"\n",
        "lemmatizer = WordNetLemmatizer()\n",
        "words = word_tokenize(text)\n",
        "lem_words =[]\n",
        "\n",
        "for i in range(len(words)):\n",
        "    lem_words.append(lemmatizer.lemmatize(words[i]))\n",
        "\n",
        "print(words)\n",
        "print(len(words))\n",
        "print(\"=------------ check \")\n",
        "print(lem_words)\n",
        "print(len(lem_words))\n"
      ],
      "execution_count": 23,
      "outputs": [
        {
          "output_type": "stream",
          "text": [
            "['‘', 'Xi', 'Jinping', 'is', 'a', 'Chinese', 'politician', 'who', 'has', 'served', 'as', 'General', 'Secretary', 'of', 'the', 'Chinese', 'Communist', 'Party', '(', 'CCP', ')', 'and', 'Chairman', 'of', 'the', 'Central', 'Military', 'Commission', '(', 'CMC', ')', 'since', '2012', ',', 'and', 'President', 'of', 'the', 'People', \"'s\", 'Republic', 'of', 'China', '(', 'PRC', ')', 'since', '2013', '.', 'He', 'has', 'been', 'the', 'paramount', 'leader', 'of', 'China', ',', 'the', 'most', 'prominent', 'political', 'leader', 'in', 'the', 'country', ',', 'since', '2012', '.', 'The', 'son', 'of', 'Chinese', 'Communist', 'veteran', 'Xi', 'Zhongxun', ',', 'he', 'was', 'exiled', 'to', 'rural', 'Yanchuan', 'County', 'as', 'a', 'teenager', 'following', 'his', 'father', \"'s\", 'purge', 'during', 'the', 'Cultural', 'Revolution', 'and', 'lived', 'in', 'a', 'cave', 'in', 'the', 'village', 'of', 'Liangjiahe', ',', 'where', 'he', 'joined', 'the', 'CCP', 'and', 'worked', 'as', 'the', 'party', 'secretary', '.', '’']\n",
            "122\n",
            "=------------ check \n",
            "['‘', 'Xi', 'Jinping', 'is', 'a', 'Chinese', 'politician', 'who', 'ha', 'served', 'a', 'General', 'Secretary', 'of', 'the', 'Chinese', 'Communist', 'Party', '(', 'CCP', ')', 'and', 'Chairman', 'of', 'the', 'Central', 'Military', 'Commission', '(', 'CMC', ')', 'since', '2012', ',', 'and', 'President', 'of', 'the', 'People', \"'s\", 'Republic', 'of', 'China', '(', 'PRC', ')', 'since', '2013', '.', 'He', 'ha', 'been', 'the', 'paramount', 'leader', 'of', 'China', ',', 'the', 'most', 'prominent', 'political', 'leader', 'in', 'the', 'country', ',', 'since', '2012', '.', 'The', 'son', 'of', 'Chinese', 'Communist', 'veteran', 'Xi', 'Zhongxun', ',', 'he', 'wa', 'exiled', 'to', 'rural', 'Yanchuan', 'County', 'a', 'a', 'teenager', 'following', 'his', 'father', \"'s\", 'purge', 'during', 'the', 'Cultural', 'Revolution', 'and', 'lived', 'in', 'a', 'cave', 'in', 'the', 'village', 'of', 'Liangjiahe', ',', 'where', 'he', 'joined', 'the', 'CCP', 'and', 'worked', 'a', 'the', 'party', 'secretary', '.', '’']\n",
            "122\n"
          ],
          "name": "stdout"
        }
      ]
    },
    {
      "cell_type": "markdown",
      "metadata": {
        "id": "OsnSxVvxxtGD"
      },
      "source": [
        "parsing \n",
        "\n",
        "https://www.nltk.org/book/ch08.html\n",
        "\n",
        "this is also running not sure about the resluts \n",
        "\n"
      ]
    },
    {
      "cell_type": "code",
      "metadata": {
        "id": "6ZJSa53mxwNT",
        "outputId": "2ec2014d-21f1-463b-e744-27ed651e0036",
        "colab": {
          "base_uri": "https://localhost:8080/"
        }
      },
      "source": [
        "text = \"‘Xi Jinping is a Chinese politician who has served as General Secretary of the Chinese Communist Party (CCP) and Chairman of the Central Military Commission (CMC) since 2012, and President of the People's Republic of China (PRC) since 2013. He has been the paramount leader of China, the most prominent political leader in the country, since 2012. The son of Chinese Communist veteran Xi Zhongxun, he was exiled to rural Yanchuan County as a teenager following his father's purge during the Cultural Revolution and lived in a cave in the village of Liangjiahe, where he joined the CCP and worked as the party secretary.’\"\n",
        "words = word_tokenize(text)\n",
        "pars_words =[]\n",
        "ps = PorterStemmer()\n",
        "for w in words:\n",
        "\trootWord=ps.stem(w)\n",
        "\tpars_words.append(rootWord)\n",
        "\n",
        "\n",
        "\n",
        "print(pars_words)\n",
        "\n",
        "\n"
      ],
      "execution_count": 28,
      "outputs": [
        {
          "output_type": "stream",
          "text": [
            "['‘', 'Xi', 'jinp', 'is', 'a', 'chines', 'politician', 'who', 'ha', 'serv', 'as', 'gener', 'secretari', 'of', 'the', 'chines', 'communist', 'parti', '(', 'ccp', ')', 'and', 'chairman', 'of', 'the', 'central', 'militari', 'commiss', '(', 'cmc', ')', 'sinc', '2012', ',', 'and', 'presid', 'of', 'the', 'peopl', \"'s\", 'republ', 'of', 'china', '(', 'prc', ')', 'sinc', '2013', '.', 'He', 'ha', 'been', 'the', 'paramount', 'leader', 'of', 'china', ',', 'the', 'most', 'promin', 'polit', 'leader', 'in', 'the', 'countri', ',', 'sinc', '2012', '.', 'the', 'son', 'of', 'chines', 'communist', 'veteran', 'Xi', 'zhongxun', ',', 'he', 'wa', 'exil', 'to', 'rural', 'yanchuan', 'counti', 'as', 'a', 'teenag', 'follow', 'hi', 'father', \"'s\", 'purg', 'dure', 'the', 'cultur', 'revolut', 'and', 'live', 'in', 'a', 'cave', 'in', 'the', 'villag', 'of', 'liangjiah', ',', 'where', 'he', 'join', 'the', 'ccp', 'and', 'work', 'as', 'the', 'parti', 'secretari', '.', '’']\n"
          ],
          "name": "stdout"
        }
      ]
    },
    {
      "cell_type": "markdown",
      "metadata": {
        "id": "NsLrk_HI1BwH"
      },
      "source": [
        "Named entity recognizer (NER)\n",
        "\n",
        "https://towardsdatascience.com/named-entity-recognition-with-nltk-and-spacy-8c4a7d88e7da\n",
        "\n",
        "https://medium.com/@pavankalyanpk986/named-entity-recognition-with-nltk-ec59ff6a9250\n"
      ]
    },
    {
      "cell_type": "code",
      "metadata": {
        "id": "oPz9AszE1FN5"
      },
      "source": [
        "# code \n"
      ],
      "execution_count": null,
      "outputs": []
    },
    {
      "cell_type": "markdown",
      "metadata": {
        "id": "fhyvJmjo1GmL"
      },
      "source": [
        "Co-reference resolution\n",
        "\n",
        "https://www.quora.com/How-do-I-handle-co-reference-resolution-while-using-Python-NLTK\n",
        "\n",
        "not an exact link for this problem \n",
        "http://www.nltk.org/api/nltk.tag.html\n",
        "\n",
        "\n"
      ]
    },
    {
      "cell_type": "code",
      "metadata": {
        "id": "-ef0erQC1JU3"
      },
      "source": [
        "# code "
      ],
      "execution_count": null,
      "outputs": []
    }
  ]
}