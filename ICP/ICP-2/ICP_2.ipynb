{
  "nbformat": 4,
  "nbformat_minor": 0,
  "metadata": {
    "colab": {
      "name": "ICP-2.ipynb",
      "provenance": [],
      "authorship_tag": "ABX9TyO2+VEq/OfwnyNFe+Qj6090",
      "include_colab_link": true
    },
    "kernelspec": {
      "name": "python3",
      "display_name": "Python 3"
    }
  },
  "cells": [
    {
      "cell_type": "markdown",
      "metadata": {
        "id": "view-in-github",
        "colab_type": "text"
      },
      "source": [
        "<a href=\"https://colab.research.google.com/github/brucker3/KDM_spring2021/blob/main/ICP/ICP-2/ICP_2.ipynb\" target=\"_parent\"><img src=\"https://colab.research.google.com/assets/colab-badge.svg\" alt=\"Open In Colab\"/></a>"
      ]
    },
    {
      "cell_type": "code",
      "metadata": {
        "colab": {
          "base_uri": "https://localhost:8080/"
        },
        "id": "Ui-uzRmQ71BB",
        "outputId": "c1c97dbd-3edd-4041-8674-d74d8bedd2a8"
      },
      "source": [
        "# download and import libraires for ICP-2 \n",
        "!pip install textblob\n",
        "!pip install gensim\n",
        "#!pip install neuralcoref\n",
        "import gensim \n",
        "import nltk\n",
        "import textblob\n",
        "nltk.download('punkt')\n",
        "nltk.download('averaged_perceptron_tagger')\n",
        "nltk.download('wordnet')\n",
        "nltk.download('maxent_ne_chunker')\n",
        "nltk.download('words')\n",
        "import pandas as pd\n",
        "import spacy\n",
        "#import neuralcoref\n",
        "from nltk.stem import WordNetLemmatizer \n",
        "from nltk.stem import PorterStemmer\n",
        "from nltk.tokenize import sent_tokenize\n",
        "from nltk.tokenize import word_tokenize\n",
        "from nltk.tag import pos_tag\n",
        "from nltk.probability import FreqDist\n",
        "from nltk.chunk import conlltags2tree, tree2conlltags\n",
        "from pprint import pprint\n",
        "from nltk import ne_chunk\n",
        "#import neuralcoref\n",
        "#import spacy\n",
        "#nlp1 = spacy.load('en')\n",
        "#neuralcoref.add_to_pipe(nlp1)\n",
        "\n"
      ],
      "execution_count": 21,
      "outputs": [
        {
          "output_type": "stream",
          "text": [
            "Requirement already satisfied: textblob in /usr/local/lib/python3.6/dist-packages (0.15.3)\n",
            "Requirement already satisfied: nltk>=3.1 in /usr/local/lib/python3.6/dist-packages (from textblob) (3.2.5)\n",
            "Requirement already satisfied: six in /usr/local/lib/python3.6/dist-packages (from nltk>=3.1->textblob) (1.15.0)\n",
            "Requirement already satisfied: gensim in /usr/local/lib/python3.6/dist-packages (3.6.0)\n",
            "Requirement already satisfied: scipy>=0.18.1 in /usr/local/lib/python3.6/dist-packages (from gensim) (1.4.1)\n",
            "Requirement already satisfied: smart-open>=1.2.1 in /usr/local/lib/python3.6/dist-packages (from gensim) (3.0.0)\n",
            "Requirement already satisfied: numpy>=1.11.3 in /usr/local/lib/python3.6/dist-packages (from gensim) (1.19.5)\n",
            "Requirement already satisfied: six>=1.5.0 in /usr/local/lib/python3.6/dist-packages (from gensim) (1.15.0)\n",
            "Requirement already satisfied: requests in /usr/local/lib/python3.6/dist-packages (from smart-open>=1.2.1->gensim) (2.23.0)\n",
            "Requirement already satisfied: certifi>=2017.4.17 in /usr/local/lib/python3.6/dist-packages (from requests->smart-open>=1.2.1->gensim) (2020.12.5)\n",
            "Requirement already satisfied: chardet<4,>=3.0.2 in /usr/local/lib/python3.6/dist-packages (from requests->smart-open>=1.2.1->gensim) (3.0.4)\n",
            "Requirement already satisfied: urllib3!=1.25.0,!=1.25.1,<1.26,>=1.21.1 in /usr/local/lib/python3.6/dist-packages (from requests->smart-open>=1.2.1->gensim) (1.24.3)\n",
            "Requirement already satisfied: idna<3,>=2.5 in /usr/local/lib/python3.6/dist-packages (from requests->smart-open>=1.2.1->gensim) (2.10)\n",
            "[nltk_data] Downloading package punkt to /root/nltk_data...\n",
            "[nltk_data]   Package punkt is already up-to-date!\n",
            "[nltk_data] Downloading package averaged_perceptron_tagger to\n",
            "[nltk_data]     /root/nltk_data...\n",
            "[nltk_data]   Package averaged_perceptron_tagger is already up-to-\n",
            "[nltk_data]       date!\n",
            "[nltk_data] Downloading package wordnet to /root/nltk_data...\n",
            "[nltk_data]   Package wordnet is already up-to-date!\n",
            "[nltk_data] Downloading package maxent_ne_chunker to\n",
            "[nltk_data]     /root/nltk_data...\n",
            "[nltk_data]   Package maxent_ne_chunker is already up-to-date!\n",
            "[nltk_data] Downloading package words to /root/nltk_data...\n",
            "[nltk_data]   Package words is already up-to-date!\n"
          ],
          "name": "stdout"
        }
      ]
    },
    {
      "cell_type": "markdown",
      "metadata": {
        "id": "VVPGCJVo9eY6"
      },
      "source": [
        "sample text to be used:\n",
        "\n",
        "      ‘Xi Jinping is a Chinese politician who has served as General Secretary of the Chinese Communist Party (CCP) and Chairman of the Central Military Commission (CMC) since 2012, and President of the People's Republic of China (PRC) since 2013. He has been the paramount leader of China, the most prominent political leader in the country, since 2012. The son of Chinese Communist veteran Xi Zhongxun, he was exiled to rural Yanchuan County as a teenager following his father's purge during the Cultural Revolution and lived in a cave in the village of Liangjiahe, where he joined the CCP and worked as the party secretary.’"
      ]
    },
    {
      "cell_type": "markdown",
      "metadata": {
        "id": "zwKOS92Jo3wx"
      },
      "source": [
        "1 pos tagger "
      ]
    },
    {
      "cell_type": "code",
      "metadata": {
        "id": "1Zl-X-NM9lsb",
        "colab": {
          "base_uri": "https://localhost:8080/"
        },
        "outputId": "25da62e0-efdd-4840-9922-b82017109ed9"
      },
      "source": [
        "text = \"‘Xi Jinping is a Chinese politician who has served as General Secretary of the Chinese Communist Party (CCP) and Chairman of the Central Military Commission (CMC) since 2012, and President of the People's Republic of China (PRC) since 2013. He has been the paramount leader of China, the most prominent political leader in the country, since 2012. The son of Chinese Communist veteran Xi Zhongxun, he was exiled to rural Yanchuan County as a teenager following his father's purge during the Cultural Revolution and lived in a cave in the village of Liangjiahe, where he joined the CCP and worked as the party secretary.’\"\n",
        "\n",
        "text2 = nltk.word_tokenize(text)\n",
        "nltk.pos_tag(text2)\n",
        "\n"
      ],
      "execution_count": 18,
      "outputs": [
        {
          "output_type": "execute_result",
          "data": {
            "text/plain": [
              "[('‘', 'JJ'),\n",
              " ('Xi', 'NNP'),\n",
              " ('Jinping', 'NNP'),\n",
              " ('is', 'VBZ'),\n",
              " ('a', 'DT'),\n",
              " ('Chinese', 'JJ'),\n",
              " ('politician', 'NN'),\n",
              " ('who', 'WP'),\n",
              " ('has', 'VBZ'),\n",
              " ('served', 'VBN'),\n",
              " ('as', 'IN'),\n",
              " ('General', 'NNP'),\n",
              " ('Secretary', 'NNP'),\n",
              " ('of', 'IN'),\n",
              " ('the', 'DT'),\n",
              " ('Chinese', 'NNP'),\n",
              " ('Communist', 'NNP'),\n",
              " ('Party', 'NNP'),\n",
              " ('(', '('),\n",
              " ('CCP', 'NNP'),\n",
              " (')', ')'),\n",
              " ('and', 'CC'),\n",
              " ('Chairman', 'NNP'),\n",
              " ('of', 'IN'),\n",
              " ('the', 'DT'),\n",
              " ('Central', 'NNP'),\n",
              " ('Military', 'NNP'),\n",
              " ('Commission', 'NNP'),\n",
              " ('(', '('),\n",
              " ('CMC', 'NNP'),\n",
              " (')', ')'),\n",
              " ('since', 'IN'),\n",
              " ('2012', 'CD'),\n",
              " (',', ','),\n",
              " ('and', 'CC'),\n",
              " ('President', 'NNP'),\n",
              " ('of', 'IN'),\n",
              " ('the', 'DT'),\n",
              " ('People', 'NNP'),\n",
              " (\"'s\", 'POS'),\n",
              " ('Republic', 'NNP'),\n",
              " ('of', 'IN'),\n",
              " ('China', 'NNP'),\n",
              " ('(', '('),\n",
              " ('PRC', 'NNP'),\n",
              " (')', ')'),\n",
              " ('since', 'IN'),\n",
              " ('2013', 'CD'),\n",
              " ('.', '.'),\n",
              " ('He', 'PRP'),\n",
              " ('has', 'VBZ'),\n",
              " ('been', 'VBN'),\n",
              " ('the', 'DT'),\n",
              " ('paramount', 'JJ'),\n",
              " ('leader', 'NN'),\n",
              " ('of', 'IN'),\n",
              " ('China', 'NNP'),\n",
              " (',', ','),\n",
              " ('the', 'DT'),\n",
              " ('most', 'RBS'),\n",
              " ('prominent', 'JJ'),\n",
              " ('political', 'JJ'),\n",
              " ('leader', 'NN'),\n",
              " ('in', 'IN'),\n",
              " ('the', 'DT'),\n",
              " ('country', 'NN'),\n",
              " (',', ','),\n",
              " ('since', 'IN'),\n",
              " ('2012', 'CD'),\n",
              " ('.', '.'),\n",
              " ('The', 'DT'),\n",
              " ('son', 'NN'),\n",
              " ('of', 'IN'),\n",
              " ('Chinese', 'JJ'),\n",
              " ('Communist', 'NNP'),\n",
              " ('veteran', 'NN'),\n",
              " ('Xi', 'NNP'),\n",
              " ('Zhongxun', 'NNP'),\n",
              " (',', ','),\n",
              " ('he', 'PRP'),\n",
              " ('was', 'VBD'),\n",
              " ('exiled', 'VBN'),\n",
              " ('to', 'TO'),\n",
              " ('rural', 'JJ'),\n",
              " ('Yanchuan', 'NNP'),\n",
              " ('County', 'NNP'),\n",
              " ('as', 'IN'),\n",
              " ('a', 'DT'),\n",
              " ('teenager', 'NN'),\n",
              " ('following', 'VBG'),\n",
              " ('his', 'PRP$'),\n",
              " ('father', 'NN'),\n",
              " (\"'s\", 'POS'),\n",
              " ('purge', 'NN'),\n",
              " ('during', 'IN'),\n",
              " ('the', 'DT'),\n",
              " ('Cultural', 'JJ'),\n",
              " ('Revolution', 'NNP'),\n",
              " ('and', 'CC'),\n",
              " ('lived', 'VBN'),\n",
              " ('in', 'IN'),\n",
              " ('a', 'DT'),\n",
              " ('cave', 'NN'),\n",
              " ('in', 'IN'),\n",
              " ('the', 'DT'),\n",
              " ('village', 'NN'),\n",
              " ('of', 'IN'),\n",
              " ('Liangjiahe', 'NNP'),\n",
              " (',', ','),\n",
              " ('where', 'WRB'),\n",
              " ('he', 'PRP'),\n",
              " ('joined', 'VBD'),\n",
              " ('the', 'DT'),\n",
              " ('CCP', 'NNP'),\n",
              " ('and', 'CC'),\n",
              " ('worked', 'VBD'),\n",
              " ('as', 'IN'),\n",
              " ('the', 'DT'),\n",
              " ('party', 'NN'),\n",
              " ('secretary', 'NN'),\n",
              " ('.', '.'),\n",
              " ('’', 'NN')]"
            ]
          },
          "metadata": {
            "tags": []
          },
          "execution_count": 18
        }
      ]
    },
    {
      "cell_type": "markdown",
      "metadata": {
        "id": "NsLrk_HI1BwH"
      },
      "source": [
        "Named entity recognizer (NER)\n",
        "\n",
        "classificer is partly working it reconized some organization but did not see Xi as a person "
      ]
    },
    {
      "cell_type": "code",
      "metadata": {
        "colab": {
          "base_uri": "https://localhost:8080/"
        },
        "id": "oPz9AszE1FN5",
        "outputId": "e38d3b37-6633-4323-f37d-2bdb94f8b943"
      },
      "source": [
        "text = \"‘Xi Jinping is a Chinese politician who has served as General Secretary of the Chinese Communist Party (CCP) and Chairman of the Central Military Commission (CMC) since 2012, and President of the People's Republic of China (PRC) since 2013. He has been the paramount leader of China, the most prominent political leader in the country, since 2012. The son of Chinese Communist veteran Xi Zhongxun, he was exiled to rural Yanchuan County as a teenager following his father's purge during the Cultural Revolution and lived in a cave in the village of Liangjiahe, where he joined the CCP and worked as the party secretary.’\"\n",
        "words = nltk.word_tokenize(text) \n",
        "words = nltk.pos_tag(words)\n",
        "pattern = 'NP: {<DT>?<JJ>*<NN>}'\n",
        "regex_pattern = nltk.RegexpParser(pattern)\n",
        "cs = regex_pattern.parse(words)\n",
        "iob_tagged = nltk.tree2conlltags(cs)\n",
        "ne_tree = nltk.ne_chunk(nltk.pos_tag(nltk.word_tokenize(text)))\n",
        "print(ne_tree)\n"
      ],
      "execution_count": 16,
      "outputs": [
        {
          "output_type": "stream",
          "text": [
            "(S\n",
            "  ‘/JJ\n",
            "  Xi/NNP\n",
            "  Jinping/NNP\n",
            "  is/VBZ\n",
            "  a/DT\n",
            "  (GPE Chinese/JJ)\n",
            "  politician/NN\n",
            "  who/WP\n",
            "  has/VBZ\n",
            "  served/VBN\n",
            "  as/IN\n",
            "  (ORGANIZATION General/NNP)\n",
            "  Secretary/NNP\n",
            "  of/IN\n",
            "  the/DT\n",
            "  (ORGANIZATION Chinese/NNP)\n",
            "  (ORGANIZATION Communist/NNP Party/NNP)\n",
            "  (/(\n",
            "  (ORGANIZATION CCP/NNP)\n",
            "  )/)\n",
            "  and/CC\n",
            "  Chairman/NNP\n",
            "  of/IN\n",
            "  the/DT\n",
            "  (ORGANIZATION Central/NNP)\n",
            "  Military/NNP\n",
            "  Commission/NNP\n",
            "  (/(\n",
            "  (ORGANIZATION CMC/NNP)\n",
            "  )/)\n",
            "  since/IN\n",
            "  2012/CD\n",
            "  ,/,\n",
            "  and/CC\n",
            "  President/NNP\n",
            "  of/IN\n",
            "  the/DT\n",
            "  (ORGANIZATION People/NNP)\n",
            "  's/POS\n",
            "  (ORGANIZATION Republic/NNP)\n",
            "  of/IN\n",
            "  (GPE China/NNP)\n",
            "  (/(\n",
            "  (ORGANIZATION PRC/NNP)\n",
            "  )/)\n",
            "  since/IN\n",
            "  2013/CD\n",
            "  ./.\n",
            "  He/PRP\n",
            "  has/VBZ\n",
            "  been/VBN\n",
            "  the/DT\n",
            "  paramount/JJ\n",
            "  leader/NN\n",
            "  of/IN\n",
            "  (GPE China/NNP)\n",
            "  ,/,\n",
            "  the/DT\n",
            "  most/RBS\n",
            "  prominent/JJ\n",
            "  political/JJ\n",
            "  leader/NN\n",
            "  in/IN\n",
            "  the/DT\n",
            "  country/NN\n",
            "  ,/,\n",
            "  since/IN\n",
            "  2012/CD\n",
            "  ./.\n",
            "  The/DT\n",
            "  son/NN\n",
            "  of/IN\n",
            "  (GPE Chinese/JJ)\n",
            "  (ORGANIZATION Communist/NNP)\n",
            "  veteran/NN\n",
            "  Xi/NNP\n",
            "  Zhongxun/NNP\n",
            "  ,/,\n",
            "  he/PRP\n",
            "  was/VBD\n",
            "  exiled/VBN\n",
            "  to/TO\n",
            "  rural/JJ\n",
            "  (ORGANIZATION Yanchuan/NNP County/NNP)\n",
            "  as/IN\n",
            "  a/DT\n",
            "  teenager/NN\n",
            "  following/VBG\n",
            "  his/PRP$\n",
            "  father/NN\n",
            "  's/POS\n",
            "  purge/NN\n",
            "  during/IN\n",
            "  the/DT\n",
            "  Cultural/JJ\n",
            "  Revolution/NNP\n",
            "  and/CC\n",
            "  lived/VBN\n",
            "  in/IN\n",
            "  a/DT\n",
            "  cave/NN\n",
            "  in/IN\n",
            "  the/DT\n",
            "  village/NN\n",
            "  of/IN\n",
            "  (GPE Liangjiahe/NNP)\n",
            "  ,/,\n",
            "  where/WRB\n",
            "  he/PRP\n",
            "  joined/VBD\n",
            "  the/DT\n",
            "  (ORGANIZATION CCP/NNP)\n",
            "  and/CC\n",
            "  worked/VBD\n",
            "  as/IN\n",
            "  the/DT\n",
            "  party/NN\n",
            "  secretary/NN\n",
            "  ./.\n",
            "  ’/NN)\n"
          ],
          "name": "stdout"
        }
      ]
    },
    {
      "cell_type": "markdown",
      "metadata": {
        "id": "fhyvJmjo1GmL"
      },
      "source": [
        "Co-reference resolution\n",
        "\n",
        "I was not able to find many libraires that addressed co-reference resolution. I did find the neuralcoref librariy.\n",
        "the neuralcoref librariy appearch to have some sort of dependency import issues. From what I could tell this bug has not been resolved. \n",
        "From my understanding of how neuralcoref works this code should produce co-reference resolution is the dependency issues is resolved. \n"
      ]
    },
    {
      "cell_type": "code",
      "metadata": {
        "id": "-ef0erQC1JU3"
      },
      "source": [
        "coref = neuralcoref.NeuralCoref(nlp1.vocab)\n",
        "nlp1.add_pipe(coref, name='neuralcoref')\n",
        "doc = nlp1(\"‘Xi Jinping is a Chinese politician who has served as General Secretary of the Chinese Communist Party (CCP) and Chairman of the Central Military Commission (CMC) since 2012, and President of the People's Republic of China (PRC) since 2013. He has been the paramount leader of China, the most prominent political leader in the country, since 2012. The son of Chinese Communist veteran Xi Zhongxun, he was exiled to rural Yanchuan County as a teenager following his father's purge during the Cultural Revolution and lived in a cave in the village of Liangjiahe, where he joined the CCP and worked as the party secretary.'\")\n",
        "\n",
        "doc._.has_coref\n",
        "doc._.coref_clusters\n"
      ],
      "execution_count": null,
      "outputs": []
    },
    {
      "cell_type": "markdown",
      "metadata": {
        "id": "-lH_cV49o91y"
      },
      "source": [
        "Lemmatization \n"
      ]
    },
    {
      "cell_type": "code",
      "metadata": {
        "colab": {
          "base_uri": "https://localhost:8080/"
        },
        "id": "FVqjSO90pCkl",
        "outputId": "55891ed2-3693-484d-b94c-bec20aeac84f"
      },
      "source": [
        "text = \"‘Xi Jinping is a Chinese politician who has served as General Secretary of the Chinese Communist Party (CCP) and Chairman of the Central Military Commission (CMC) since 2012, and President of the People's Republic of China (PRC) since 2013. He has been the paramount leader of China, the most prominent political leader in the country, since 2012. The son of Chinese Communist veteran Xi Zhongxun, he was exiled to rural Yanchuan County as a teenager following his father's purge during the Cultural Revolution and lived in a cave in the village of Liangjiahe, where he joined the CCP and worked as the party secretary.’\"\n",
        "lemmatizer = WordNetLemmatizer()\n",
        "words = word_tokenize(text)\n",
        "lem_words =[]\n",
        "for i in range(len(words)):\n",
        "    lem_words.append(lemmatizer.lemmatize(words[i]))\n",
        "\n",
        "print(lem_words)"
      ],
      "execution_count": 23,
      "outputs": [
        {
          "output_type": "stream",
          "text": [
            "['‘', 'Xi', 'Jinping', 'is', 'a', 'Chinese', 'politician', 'who', 'has', 'served', 'as', 'General', 'Secretary', 'of', 'the', 'Chinese', 'Communist', 'Party', '(', 'CCP', ')', 'and', 'Chairman', 'of', 'the', 'Central', 'Military', 'Commission', '(', 'CMC', ')', 'since', '2012', ',', 'and', 'President', 'of', 'the', 'People', \"'s\", 'Republic', 'of', 'China', '(', 'PRC', ')', 'since', '2013', '.', 'He', 'has', 'been', 'the', 'paramount', 'leader', 'of', 'China', ',', 'the', 'most', 'prominent', 'political', 'leader', 'in', 'the', 'country', ',', 'since', '2012', '.', 'The', 'son', 'of', 'Chinese', 'Communist', 'veteran', 'Xi', 'Zhongxun', ',', 'he', 'was', 'exiled', 'to', 'rural', 'Yanchuan', 'County', 'as', 'a', 'teenager', 'following', 'his', 'father', \"'s\", 'purge', 'during', 'the', 'Cultural', 'Revolution', 'and', 'lived', 'in', 'a', 'cave', 'in', 'the', 'village', 'of', 'Liangjiahe', ',', 'where', 'he', 'joined', 'the', 'CCP', 'and', 'worked', 'as', 'the', 'party', 'secretary', '.', '’']\n",
            "122\n",
            "=------------ check \n",
            "['‘', 'Xi', 'Jinping', 'is', 'a', 'Chinese', 'politician', 'who', 'ha', 'served', 'a', 'General', 'Secretary', 'of', 'the', 'Chinese', 'Communist', 'Party', '(', 'CCP', ')', 'and', 'Chairman', 'of', 'the', 'Central', 'Military', 'Commission', '(', 'CMC', ')', 'since', '2012', ',', 'and', 'President', 'of', 'the', 'People', \"'s\", 'Republic', 'of', 'China', '(', 'PRC', ')', 'since', '2013', '.', 'He', 'ha', 'been', 'the', 'paramount', 'leader', 'of', 'China', ',', 'the', 'most', 'prominent', 'political', 'leader', 'in', 'the', 'country', ',', 'since', '2012', '.', 'The', 'son', 'of', 'Chinese', 'Communist', 'veteran', 'Xi', 'Zhongxun', ',', 'he', 'wa', 'exiled', 'to', 'rural', 'Yanchuan', 'County', 'a', 'a', 'teenager', 'following', 'his', 'father', \"'s\", 'purge', 'during', 'the', 'Cultural', 'Revolution', 'and', 'lived', 'in', 'a', 'cave', 'in', 'the', 'village', 'of', 'Liangjiahe', ',', 'where', 'he', 'joined', 'the', 'CCP', 'and', 'worked', 'a', 'the', 'party', 'secretary', '.', '’']\n",
            "122\n"
          ],
          "name": "stdout"
        }
      ]
    },
    {
      "cell_type": "markdown",
      "metadata": {
        "id": "OsnSxVvxxtGD"
      },
      "source": [
        "parsing \n",
        "\n"
      ]
    },
    {
      "cell_type": "code",
      "metadata": {
        "colab": {
          "base_uri": "https://localhost:8080/"
        },
        "id": "6ZJSa53mxwNT",
        "outputId": "2ec2014d-21f1-463b-e744-27ed651e0036"
      },
      "source": [
        "text = \"‘Xi Jinping is a Chinese politician who has served as General Secretary of the Chinese Communist Party (CCP) and Chairman of the Central Military Commission (CMC) since 2012, and President of the People's Republic of China (PRC) since 2013. He has been the paramount leader of China, the most prominent political leader in the country, since 2012. The son of Chinese Communist veteran Xi Zhongxun, he was exiled to rural Yanchuan County as a teenager following his father's purge during the Cultural Revolution and lived in a cave in the village of Liangjiahe, where he joined the CCP and worked as the party secretary.’\"\n",
        "words = word_tokenize(text)\n",
        "pars_words =[]\n",
        "ps = PorterStemmer()\n",
        "for w in words:\n",
        "\trootWord=ps.stem(w)\n",
        "\tpars_words.append(rootWord)\n",
        "\n",
        "print(pars_words)"
      ],
      "execution_count": 28,
      "outputs": [
        {
          "output_type": "stream",
          "text": [
            "['‘', 'Xi', 'jinp', 'is', 'a', 'chines', 'politician', 'who', 'ha', 'serv', 'as', 'gener', 'secretari', 'of', 'the', 'chines', 'communist', 'parti', '(', 'ccp', ')', 'and', 'chairman', 'of', 'the', 'central', 'militari', 'commiss', '(', 'cmc', ')', 'sinc', '2012', ',', 'and', 'presid', 'of', 'the', 'peopl', \"'s\", 'republ', 'of', 'china', '(', 'prc', ')', 'sinc', '2013', '.', 'He', 'ha', 'been', 'the', 'paramount', 'leader', 'of', 'china', ',', 'the', 'most', 'promin', 'polit', 'leader', 'in', 'the', 'countri', ',', 'sinc', '2012', '.', 'the', 'son', 'of', 'chines', 'communist', 'veteran', 'Xi', 'zhongxun', ',', 'he', 'wa', 'exil', 'to', 'rural', 'yanchuan', 'counti', 'as', 'a', 'teenag', 'follow', 'hi', 'father', \"'s\", 'purg', 'dure', 'the', 'cultur', 'revolut', 'and', 'live', 'in', 'a', 'cave', 'in', 'the', 'villag', 'of', 'liangjiah', ',', 'where', 'he', 'join', 'the', 'ccp', 'and', 'work', 'as', 'the', 'parti', 'secretari', '.', '’']\n"
          ],
          "name": "stdout"
        }
      ]
    }
  ]
}