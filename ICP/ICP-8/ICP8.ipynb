{
  "nbformat": 4,
  "nbformat_minor": 0,
  "metadata": {
    "colab": {
      "name": "ICP8.ipynb",
      "provenance": [],
      "authorship_tag": "ABX9TyO2lgREgjjHaHCMfblMD1RZ",
      "include_colab_link": true
    },
    "kernelspec": {
      "name": "python3",
      "display_name": "Python 3"
    }
  },
  "cells": [
    {
      "cell_type": "markdown",
      "metadata": {
        "id": "view-in-github",
        "colab_type": "text"
      },
      "source": [
        "<a href=\"https://colab.research.google.com/github/brucker3/KDM_spring2021/blob/main/ICP8.ipynb\" target=\"_parent\"><img src=\"https://colab.research.google.com/assets/colab-badge.svg\" alt=\"Open In Colab\"/></a>"
      ]
    },
    {
      "cell_type": "code",
      "metadata": {
        "id": "EboVOnPD_W1x",
        "colab": {
          "base_uri": "https://localhost:8080/"
        },
        "outputId": "ca16def4-0327-4940-9a98-c0ee0bab19ac"
      },
      "source": [
        "# getting packages for triples extracting \n",
        "!pip install stanza\n",
        "import stanza\n",
        "import json\n",
        "import os\n",
        "import time\n",
        "# Import client module\n",
        "from stanza.server import CoreNLPClient"
      ],
      "execution_count": 2,
      "outputs": [
        {
          "output_type": "stream",
          "text": [
            "Collecting stanza\n",
            "\u001b[?25l  Downloading https://files.pythonhosted.org/packages/50/ae/a70a58ce6b4e2daad538688806ee0f238dbe601954582a74ea57cde6c532/stanza-1.2-py3-none-any.whl (282kB)\n",
            "\u001b[K     |████████████████████████████████| 286kB 5.4MB/s \n",
            "\u001b[?25hRequirement already satisfied: tqdm in /usr/local/lib/python3.7/dist-packages (from stanza) (4.41.1)\n",
            "Requirement already satisfied: torch>=1.3.0 in /usr/local/lib/python3.7/dist-packages (from stanza) (1.8.0+cu101)\n",
            "Requirement already satisfied: numpy in /usr/local/lib/python3.7/dist-packages (from stanza) (1.19.5)\n",
            "Requirement already satisfied: requests in /usr/local/lib/python3.7/dist-packages (from stanza) (2.23.0)\n",
            "Requirement already satisfied: protobuf in /usr/local/lib/python3.7/dist-packages (from stanza) (3.12.4)\n",
            "Requirement already satisfied: typing-extensions in /usr/local/lib/python3.7/dist-packages (from torch>=1.3.0->stanza) (3.7.4.3)\n",
            "Requirement already satisfied: certifi>=2017.4.17 in /usr/local/lib/python3.7/dist-packages (from requests->stanza) (2020.12.5)\n",
            "Requirement already satisfied: urllib3!=1.25.0,!=1.25.1,<1.26,>=1.21.1 in /usr/local/lib/python3.7/dist-packages (from requests->stanza) (1.24.3)\n",
            "Requirement already satisfied: chardet<4,>=3.0.2 in /usr/local/lib/python3.7/dist-packages (from requests->stanza) (3.0.4)\n",
            "Requirement already satisfied: idna<3,>=2.5 in /usr/local/lib/python3.7/dist-packages (from requests->stanza) (2.10)\n",
            "Requirement already satisfied: setuptools in /usr/local/lib/python3.7/dist-packages (from protobuf->stanza) (54.0.0)\n",
            "Requirement already satisfied: six>=1.9 in /usr/local/lib/python3.7/dist-packages (from protobuf->stanza) (1.15.0)\n",
            "Installing collected packages: stanza\n",
            "Successfully installed stanza-1.2\n"
          ],
          "name": "stdout"
        }
      ]
    },
    {
      "cell_type": "code",
      "metadata": {
        "id": "M0HJeSpf_b1v",
        "colab": {
          "base_uri": "https://localhost:8080/"
        },
        "outputId": "997aad8e-6493-43e2-c73e-a3c15008e12f"
      },
      "source": [
        "# evnioment set up \n",
        "corenlp_dir = './corenlp'\n",
        "stanza.install_corenlp(dir=corenlp_dir)\n",
        "\n",
        "#creating os env \n",
        "os.environ[\"CORENLP_HOME\"] = corenlp_dir"
      ],
      "execution_count": 3,
      "outputs": [
        {
          "output_type": "stream",
          "text": [
            "2021-03-15 15:05:54 INFO: Installing CoreNLP package into ./corenlp...\n",
            "Downloading http://nlp.stanford.edu/software/stanford-corenlp-latest.zip: 100%|██████████| 505M/505M [01:18<00:00, 6.43MB/s]\n",
            "2021-03-15 15:07:15 WARNING: For customized installation location, please set the `CORENLP_HOME` environment variable to the location of the installation. In Unix, this is done with `export CORENLP_HOME=./corenlp`.\n"
          ],
          "name": "stderr"
        }
      ]
    },
    {
      "cell_type": "code",
      "metadata": {
        "id": "E3KttIjT_eNF",
        "colab": {
          "base_uri": "https://localhost:8080/"
        },
        "outputId": "21dba8ff-34fa-4fb7-fbda-31a97094c500"
      },
      "source": [
        "\n",
        "# set up and configue end point \n",
        "client = CoreNLPClient(timeout=150000000, be_quiet=True, annotators=['openie'], \n",
        "endpoint='http://localhost:9001')\n",
        "client.start()\n",
        "time.sleep(10)"
      ],
      "execution_count": 4,
      "outputs": [
        {
          "output_type": "stream",
          "text": [
            "2021-03-15 15:08:49 INFO: Writing properties to tmp file: corenlp_server-aea4b08b6e4d4cdb.props\n",
            "2021-03-15 15:08:49 INFO: Starting server with command: java -Xmx5G -cp ./corenlp/* edu.stanford.nlp.pipeline.StanfordCoreNLPServer -port 9001 -timeout 150000000 -threads 5 -maxCharLength 100000 -quiet True -serverProperties corenlp_server-aea4b08b6e4d4cdb.props -annotators openie -preload -outputFormat serialized\n"
          ],
          "name": "stderr"
        }
      ]
    },
    {
      "cell_type": "code",
      "metadata": {
        "id": "oLKHovGw_gox"
      },
      "source": [
        "# import text files from local machin \n",
        "txt1 = \"../content/text1.txt\"\n",
        "txt2 = \"../content/text2.txt\"\n",
        "txt3 = \"../content/text3.txt\"\n",
        "# opening and converting read in files to use able form \n",
        "txt1 = open(txt1, \"r\")\n",
        "txt2 = open(txt2, \"r\")\n",
        "txt3 = open(txt3, \"r\")\n",
        "text_sring1 = txt1.read()\n",
        "text_sring2 = txt2.read()\n",
        "text_sring3 = txt3.read()"
      ],
      "execution_count": 5,
      "outputs": []
    },
    {
      "cell_type": "code",
      "metadata": {
        "colab": {
          "base_uri": "https://localhost:8080/"
        },
        "id": "38zvaiVcZj9o",
        "outputId": "49bf5c2e-38ae-4539-e8d1-3b0b1554b034"
      },
      "source": [
        "\n",
        "document1 = client.annotate(text_sring1, output_format='json')\n",
        "document2 = client.annotate(text_sring2, output_format='json')\n",
        "document3 = client.annotate(text_sring3, output_format='json')\n",
        "triples1 = []\n",
        "triples2 = []\n",
        "triples3 = []\n",
        "doc_list = [(document1,triples1), (document2,triples2), (document3,triples3)]\n",
        "for doc  in doc_list:\n",
        "    for sentence in doc[0]['sentences']:\n",
        "        for triple in sentence['openie']:\n",
        "            doc[1].append({\n",
        "                'subject': triple['subject'],\n",
        "                'predicates': triple['relation'],\n",
        "                'object': triple['object']\n",
        "            })\n",
        "print(doc_list[0][1])\n",
        "print(\"break -------------\")\n",
        "print(doc_list[1][1])\n",
        "print(\"break -------------\")\n",
        "print(doc_list[2][1])"
      ],
      "execution_count": 10,
      "outputs": [
        {
          "output_type": "stream",
          "text": [
            "[{'subject': 'it', 'predicates': 'developing', 'object': 'new version'}, {'subject': 'it', 'predicates': 'developing', 'object': 'new version of Powerpuff Girls'}, {'subject': 'CW', 'predicates': 'announced at_time', 'object': 'year'}, {'subject': 'CW', 'predicates': 'announced at_time', 'object': 'Earlier year'}, {'subject': 'it', 'predicates': 'developing', 'object': 'version'}, {'subject': 'it', 'predicates': 'developing', 'object': 'version of Powerpuff Girls'}, {'subject': 'erstwhile crimefighters', 'predicates': 'be disillusioned twentysomethings by', 'object': 'Diablo Cody'}]\n",
            "break -------------\n",
            "[{'subject': 'Grade school math students', 'predicates': 'are', 'object': 'likely'}, {'subject': 'linear equations', 'predicates': 'of systems is', 'object': 'bedrock calculations in math'}, {'subject': 'kind', 'predicates': 'solve', 'object': 'systems of linear equations'}, {'subject': 'kind', 'predicates': 'solve', 'object': 'systems'}, {'subject': 'kind', 'predicates': 'solve', 'object': 'systems of equations'}, {'subject': 'right kind', 'predicates': 'solve', 'object': 'systems of equations'}, {'subject': 'right kind', 'predicates': 'solve', 'object': 'systems of linear equations'}, {'subject': 'systems', 'predicates': 'calculations in', 'object': 'math'}, {'subject': 'bedrock calculations', 'predicates': 'is in', 'object': 'math'}, {'subject': 'right kind', 'predicates': 'solve', 'object': 'systems'}]\n",
            "break -------------\n",
            "[{'subject': 'Philadelphia 76ers center Joel Embiid', 'predicates': 'has', 'object': 'left knee'}, {'subject': \"Philadelphia 76ers center Joel Embiid 's left knee\", 'predicates': 'undergoing MRI on', 'object': 'Saturday'}, {'subject': \"Philadelphia 76ers center Joel Embiid 's left knee\", 'predicates': 'undergoing', 'object': 'MRI'}, {'subject': \"Philadelphia 76ers center Joel Embiid 's knee\", 'predicates': 'undergoing MRI on', 'object': 'Saturday'}, {'subject': \"Philadelphia 76ers center Joel Embiid 's knee\", 'predicates': 'undergoing', 'object': 'MRI'}, {'subject': 'ESPN', 'predicates': 'according', 'object': 'Adrian Wojnarowski'}, {'subject': 'He', 'predicates': \"'s dealing with\", 'object': 'bone bruise'}]\n"
          ],
          "name": "stdout"
        }
      ]
    },
    {
      "cell_type": "code",
      "metadata": {
        "id": "5Ywhtx3VCrZE"
      },
      "source": [
        "with open(\"../content/output1.txt\", 'w') as writefile:\n",
        "    writefile.write(str(triples1))\n",
        "\n",
        "with open(\"../content/output2.txt\", 'w') as writefile:\n",
        "    writefile.write(str(triples2))\n",
        "\n",
        "with open(\"../content/output3.txt\", 'w') as writefile:\n",
        "    writefile.write(str(triples3))"
      ],
      "execution_count": 12,
      "outputs": []
    }
  ]
}