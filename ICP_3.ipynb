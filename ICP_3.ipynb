{
  "nbformat": 4,
  "nbformat_minor": 0,
  "metadata": {
    "colab": {
      "name": "ICP-3.ipynb",
      "provenance": [],
      "authorship_tag": "ABX9TyMJgfOyQYcVfSAo1YWzY2FW",
      "include_colab_link": true
    },
    "kernelspec": {
      "name": "python3",
      "display_name": "Python 3"
    }
  },
  "cells": [
    {
      "cell_type": "markdown",
      "metadata": {
        "id": "view-in-github",
        "colab_type": "text"
      },
      "source": [
        "<a href=\"https://colab.research.google.com/github/brucker3/KDM_spring2021/blob/main/ICP_3.ipynb\" target=\"_parent\"><img src=\"https://colab.research.google.com/assets/colab-badge.svg\" alt=\"Open In Colab\"/></a>"
      ]
    },
    {
      "cell_type": "code",
      "metadata": {
        "id": "MMXNBvPpwqZr"
      },
      "source": [
        "# download and import libraires for ICP-3\n",
        "!pip install textblob\n",
        "!pip install gensim\n",
        "#!pip install neuralcoref\n",
        "import gensim \n",
        "import nltk\n",
        "import textblob\n",
        "\n",
        "nltk.download('all')\n",
        "from nltk.corpus import wordnet\n",
        "\n",
        "\n",
        "# https://www.nltk.org/book/ch07.html\n",
        "#http://faculty.washington.edu/jwilker/559/2018/NLTK%20Information%20Extraction.py\n",
        "\n",
        "task 1 -5\n",
        "1,2,4\n",
        "# https://www.nltk.org/howto/wordnet.html\n",
        "\n",
        "1-5\n",
        "#https://stackoverflow.com/questions/50181115/whats-the-difference-between-part-meronyms-and-member-meronyms-in-wordnet-from\n",
        "#https://medium.com/parrot-prediction/dive-into-wordnet-with-nltk-b313c480e788"
      ],
      "execution_count": null,
      "outputs": []
    }
  ]
}